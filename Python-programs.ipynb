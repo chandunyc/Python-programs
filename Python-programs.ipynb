{
 "cells": [
  {
   "cell_type": "code",
   "execution_count": 4,
   "metadata": {},
   "outputs": [
    {
     "name": "stdout",
     "output_type": "stream",
     "text": [
      "69\n",
      "Qwert\n"
     ]
    }
   ],
   "source": [
    "#Bitwise XOR operator in Python\n",
    "#This expression performs a series of XOR operations between the numbers 81, 119, 101, 114, and 116.\n",
    "print(81^119^101^114^116)\n",
    "#To print the character equivalent of these ASCII values\n",
    "print(chr(81) + chr(119) + chr(101) + chr(114) + chr(116))"
   ]
  },
  {
   "cell_type": "code",
   "execution_count": 8,
   "metadata": {},
   "outputs": [
    {
     "name": "stdout",
     "output_type": "stream",
     "text": [
      "[2, 3, 5, 7, 11, 13, 17, 19, 23, 29]\n"
     ]
    }
   ],
   "source": [
    "import math\n",
    "\n",
    "n = 30  # Taking input from the user\n",
    "lis = list(range(2, n+1))  # List of numbers from 2 to n\n",
    "i = 0\n",
    "\n",
    "# Sieve of Eratosthenes algorithm\n",
    "while lis[i] <= math.sqrt(n):\n",
    "    if lis[i] != 0:  # If the number is not marked as 0 (i.e., it is a prime)\n",
    "        # Start marking multiples of lis[i] as non-prime (0)\n",
    "        #check its square and add number itself\n",
    "        #-2 is because we are starting the list from 2\n",
    "        for j in range(lis[i]**2 - 2, n-1, lis[i]):\n",
    "            lis[j] = 0\n",
    "    i += 1\n",
    "\n",
    "# Filter out all non-prime numbers (0s) from the list\n",
    "lis = list(filter(lambda a: a != 0, lis))\n",
    "\n",
    "# Print the list of primes\n",
    "print(lis)\n"
   ]
  },
  {
   "cell_type": "code",
   "execution_count": 9,
   "metadata": {},
   "outputs": [
    {
     "name": "stdout",
     "output_type": "stream",
     "text": [
      "The minimum cost of visiting all cities is: 80\n"
     ]
    }
   ],
   "source": [
    "import math\n",
    "\n",
    "# Function to calculate the minimum cost path\n",
    "def tsp_dp(dist, n):\n",
    "    # memo table to store results of subproblems, initialized to None\n",
    "    memo = [[None] * (1 << n) for _ in range(n)]\n",
    "    \n",
    "    # Helper function: returns the minimum cost to visit all cities starting from the current city\n",
    "    def tsp(current_city, visited_mask):\n",
    "        # Base case: all cities have been visited (mask contains all bits as 1)\n",
    "        if visited_mask == (1 << n) - 1:  # If all cities are visited, return cost to go back to the starting city\n",
    "            return dist[current_city][0]  # Cost to return to the start city\n",
    "\n",
    "        # Check memo table to avoid recomputation\n",
    "        if memo[current_city][visited_mask] is not None:\n",
    "            return memo[current_city][visited_mask]\n",
    "\n",
    "        # Try visiting all unvisited cities from the current city and calculate the minimum path\n",
    "        min_cost = math.inf\n",
    "        for next_city in range(n):\n",
    "            if visited_mask & (1 << next_city) == 0:  # If the next city is not visited yet\n",
    "                new_visited_mask = visited_mask | (1 << next_city)  # Mark the next city as visited\n",
    "                travel_cost = dist[current_city][next_city] + tsp(next_city, new_visited_mask)\n",
    "                min_cost = min(min_cost, travel_cost)\n",
    "\n",
    "        # Memoize and return the result\n",
    "        memo[current_city][visited_mask] = min_cost\n",
    "        return min_cost\n",
    "\n",
    "    # Start the TSP from the first city (city 0), with only the first city visited\n",
    "    return tsp(0, 1 << 0)\n",
    "\n",
    "# Example usage\n",
    "if __name__ == \"__main__\":\n",
    "    # Number of cities\n",
    "    n = 4\n",
    "    \n",
    "    # Distance matrix (symmetric) - distances between cities\n",
    "    dist = [\n",
    "        [0, 10, 15, 20],  # Distances from city 0\n",
    "        [10, 0, 35, 25],  # Distances from city 1\n",
    "        [15, 35, 0, 30],  # Distances from city 2\n",
    "        [20, 25, 30, 0]   # Distances from city 3\n",
    "    ]\n",
    "\n",
    "    # Solving TSP using dynamic programming\n",
    "    min_cost = tsp_dp(dist, n)\n",
    "    print(f\"The minimum cost of visiting all cities is: {min_cost}\")\n"
   ]
  },
  {
   "cell_type": "code",
   "execution_count": 10,
   "metadata": {},
   "outputs": [
    {
     "name": "stdout",
     "output_type": "stream",
     "text": [
      "The minimum cost of visiting all cities is: 80\n"
     ]
    }
   ],
   "source": [
    "import math\n",
    "\n",
    "# Function to calculate the minimum cost path\n",
    "def tsp_dp(dist, visited, current_city, n):\n",
    "    # Base case: if all cities have been visited, return cost to go back to the starting city\n",
    "    if all(visited):\n",
    "        return dist[current_city][0]  # Return to the starting city\n",
    "\n",
    "    # Recursive case: try visiting all unvisited cities from the current city\n",
    "    min_cost = math.inf\n",
    "    for next_city in range(n):\n",
    "        if not visited[next_city]:  # If the next city is not visited\n",
    "            visited[next_city] = True  # Mark it as visited\n",
    "            travel_cost = dist[current_city][next_city] + tsp_dp(dist, visited, next_city, n)\n",
    "            min_cost = min(min_cost, travel_cost)\n",
    "            visited[next_city] = False  # Backtrack: unmark the city\n",
    "\n",
    "    return min_cost\n",
    "\n",
    "# Example usage\n",
    "if __name__ == \"__main__\":\n",
    "    # Number of cities\n",
    "    n = 4\n",
    "    \n",
    "    # Distance matrix (symmetric) - distances between cities\n",
    "    dist = [\n",
    "        [0, 10, 15, 20],  # Distances from city 0\n",
    "        [10, 0, 35, 25],  # Distances from city 1\n",
    "        [15, 35, 0, 30],  # Distances from city 2\n",
    "        [20, 25, 30, 0]   # Distances from city 3\n",
    "    ]\n",
    "\n",
    "    # Initialize visited cities list\n",
    "    visited = [False] * n\n",
    "    visited[0] = True  # Start from the first city\n",
    "\n",
    "    # Solving TSP using the recursive function\n",
    "    min_cost = tsp_dp(dist, visited, 0, n)\n",
    "    print(f\"The minimum cost of visiting all cities is: {min_cost}\")\n"
   ]
  },
  {
   "cell_type": "code",
   "execution_count": null,
   "metadata": {},
   "outputs": [],
   "source": [
    "def multi_dimensional_knapsack(values, weights, limits):\n",
    "    \"\"\"\n",
    "    Solve the multi-dimensional knapsack problem using dynamic programming.\n",
    "\n",
    "    :param values: A list of values of items\n",
    "    :param weights: A 2D list where weights[i] represents the weights of item i in each dimension\n",
    "    :param limits: A list of limits for each dimension\n",
    "    :return: The maximum value that can be obtained\n",
    "    \"\"\"\n",
    "    num_items = len(values)\n",
    "    num_dimensions = len(limits)\n",
    "\n",
    "    # Initialize the DP table\n",
    "    dp = [[0] * (limits[d] + 1) for d in range(num_dimensions)]\n",
    "    \n",
    "    # Fill the DP table\n",
    "    for i in range(num_items):\n",
    "        for d in range(num_dimensions):\n",
    "            for limit in range(limits[d], weights[i][d] - 1, -1):\n",
    "                # Update DP table for current dimension\n",
    "                dp[d][limit] = max(dp[d][limit], dp[d][limit - weights[i][d]] + values[i])\n",
    "\n",
    "    # Return the maximum value achievable under the given limits\n",
    "    return dp[-1][-1]\n",
    "\n",
    "\n",
    "# Example usage\n",
    "if __name__ == \"__main__\":\n",
    "    # Number of items\n",
    "    num_items = 4\n",
    "    \n",
    "    # Values of the items\n",
    "    values = [60, 100, 120, 150]\n",
    "    \n",
    "    # Weights of the items in multiple dimensions\n",
    "    # Each sublist represents the weights of an item in each dimension\n",
    "    weights = [\n",
    "        [10, 20],  # Item 0: weight in dimension 1 and 2\n",
    "        [20, 30],  # Item 1: weight in dimension 1 and 2\n",
    "        [30, 10],  # Item 2: weight in dimension 1 and 2\n",
    "        [40, 50]   # Item 3: weight in dimension 1 and 2\n",
    "    ]\n",
    "    \n",
    "    # Limits for each dimension\n",
    "    limits = [50, 50]  # Maximum weight limit for dimension 1 and dimension 2\n",
    "\n",
    "    # Solve the multi-dimensional knapsack problem\n",
    "    max_value = multi_dimensional_knapsack(values, weights, limits)\n",
    "    \n",
    "    print(f\"The maximum value that can be obtained is: {max_value}\")\n"
   ]
  },
  {
   "cell_type": "code",
   "execution_count": 14,
   "metadata": {},
   "outputs": [
    {
     "ename": "ValueError",
     "evalue": "invalid literal for int() with base 10: '100k'",
     "output_type": "error",
     "traceback": [
      "\u001b[0;31m---------------------------------------------------------------------------\u001b[0m",
      "\u001b[0;31mValueError\u001b[0m                                Traceback (most recent call last)",
      "Cell \u001b[0;32mIn[14], line 6\u001b[0m\n\u001b[1;32m      4\u001b[0m \u001b[38;5;28;01mfor\u001b[39;00m i \u001b[38;5;129;01min\u001b[39;00m \u001b[38;5;28mrange\u001b[39m(\u001b[38;5;28mlen\u001b[39m(y)):\n\u001b[1;32m      5\u001b[0m     items[i]\u001b[38;5;241m.\u001b[39mappend(y[i]\u001b[38;5;241m.\u001b[39msplit())\n\u001b[0;32m----> 6\u001b[0m reqp\u001b[38;5;241m=\u001b[39m\u001b[38;5;28;43mint\u001b[39;49m\u001b[43m(\u001b[49m\u001b[43mx\u001b[49m\u001b[43m[\u001b[49m\u001b[38;5;241;43m0\u001b[39;49m\u001b[43m]\u001b[49m\u001b[43m[\u001b[49m\u001b[43m:\u001b[49m\u001b[38;5;241;43m-\u001b[39;49m\u001b[38;5;241;43m1\u001b[39;49m\u001b[43m]\u001b[49m\u001b[43m)\u001b[49m\n\u001b[1;32m      7\u001b[0m reqc\u001b[38;5;241m=\u001b[39m\u001b[38;5;28mint\u001b[39m(x[\u001b[38;5;241m1\u001b[39m][:\u001b[38;5;241m-\u001b[39m\u001b[38;5;241m1\u001b[39m])\n\u001b[1;32m      8\u001b[0m reqf\u001b[38;5;241m=\u001b[39m\u001b[38;5;28mint\u001b[39m(x[\u001b[38;5;241m2\u001b[39m][:\u001b[38;5;241m-\u001b[39m\u001b[38;5;241m1\u001b[39m])\n",
      "\u001b[0;31mValueError\u001b[0m: invalid literal for int() with base 10: '100k'"
     ]
    }
   ],
   "source": [
    "x=[\"100\",\"200\",\"50\"]  #input().split()\n",
    "y=[\"30 50 10\",\"20 30 20\",\"15 25 5\", \"-1\"]  #input().split(\"|\")\n",
    "items=[[]for i in range(len(y))]\n",
    "for i in range(len(y)):\n",
    "    items[i].append(y[i].split())\n",
    "reqp=int(x[0][:-1])\n",
    "reqc=int(x[1][:-1])\n",
    "reqf=int(x[2][:-1])\n",
    "item=[[0,0,0]for i in range(len(y))]\n",
    "for i in range(len(y)):\n",
    "    item[i][0]=int(items[i][0][0][:-1])\n",
    "    item[i][1]=int(items[i][0][1][:-1])\n",
    "    item[i][2]=int(items[i][0][2][:-1])\n",
    "fsum=0\n",
    "psum=0\n",
    "csum=0\n",
    "while psum<reqp and csum<reqc and fsum<reqf:\n",
    "    for h in range(len(item)):\n",
    "        ind=h\n",
    "        if (psum+item[h][0])<=reqp and (csum+item[h][1])<=reqc and (fsum+item[h][2])<=reqf:\n",
    "            psum=psum+item[h][0]\n",
    "            csum=csum+item[h][1]\n",
    "            fsum=fsum+item[h][2]\n",
    "            bre=False\n",
    "        else:\n",
    "            bre=True\n",
    "            break\n",
    "    if(bre):\n",
    "        break\n",
    "psum=psum-item[ind-1][0]\n",
    "csum=csum-item[ind-1][1]\n",
    "fsum=fsum-item[ind-1][2]\n",
    "itemindex=0\n",
    "finallis=[[]for l in range(len(items))]\n",
    "for g in range(len(items)):\n",
    "    if psum+item[g][0]<=reqp and csum+item[g][1]<=reqc and (fsum+item[g][2])<=reqf:\n",
    "        finallis[g].append(psum+item[g][0])\n",
    "        finallis[g].append(csum+item[g][1])\n",
    "        finallis[g].append(fsum+item[g][2])\n",
    "ss=(reqp+reqc+reqf)-sum(finallis[0])\n",
    "res=finallis[0]\n",
    "for m in range(1,len(finallis)):\n",
    "        ss1=(reqp+reqc+reqf)-sum(finallis[m])  \n",
    "        if ss1<ss:\n",
    "            res=finallis[m]\n",
    "print(reqp-res[0],end=\" \")\n",
    "print(reqc-res[1],end=\" \")\n",
    "print(reqf-res[2])\n",
    "        \n",
    "    \n",
    "    \n",
    "    \n"
   ]
  },
  {
   "cell_type": "code",
   "execution_count": 14,
   "metadata": {},
   "outputs": [
    {
     "name": "stdout",
     "output_type": "stream",
     "text": [
      "1\n",
      "12\n",
      "5 4 2 5 3 6 52 4 7 3 5 7\n",
      "3 ha\n",
      "6 ha\n",
      "8 ha\n",
      "11 haha\n",
      "17\n"
     ]
    }
   ],
   "source": [
    "t=int(input())\n",
    "for ts in range(t):\n",
    "  emp=int(input())\n",
    "  ranks=list(map(int,input().split()))\n",
    "  gifts=emp\n",
    "  for i in range(1,emp):\n",
    "    if i!=(emp-1):\n",
    "      if ranks[i]>ranks[i-1] and ranks[i]>ranks[i+1]:\n",
    "        print(i,\"ha\")\n",
    "        gifts+=1\n",
    "    elif i==emp-1:\n",
    "      print(i,\"haha\")\n",
    "      if ranks[i]>ranks[i-1]:\n",
    "        gifts+=1\n",
    "  if ranks[0]>ranks[1]:\n",
    "    print(gifts+1)\n",
    "  else:\n",
    "    print(gifts)"
   ]
  },
  {
   "cell_type": "code",
   "execution_count": 15,
   "metadata": {},
   "outputs": [
    {
     "name": "stdout",
     "output_type": "stream",
     "text": [
      "18\n",
      "* . * # * * * # * * * # * * * . * .\n",
      "* . * # * . * # . * . # * * * * * *\n",
      "* * * # * * * # * * * # * * * * . *\n",
      "['* . * ', ' * * * ', ' * * * ', ' * * * . * .']\n",
      "['* . * ', ' * . * ', ' . * . ', ' * * * * * *']\n",
      "['* * * ', ' * * * ', ' * * * ', ' * * * * . *']\n"
     ]
    },
    {
     "ename": "NameError",
     "evalue": "name 'ar' is not defined",
     "output_type": "error",
     "traceback": [
      "\u001b[1;31m---------------------------------------------------------------------------\u001b[0m",
      "\u001b[1;31mNameError\u001b[0m                                 Traceback (most recent call last)",
      "\u001b[1;32m<ipython-input-15-59fb8a57e5b1>\u001b[0m in \u001b[0;36m<module>\u001b[1;34m\u001b[0m\n\u001b[0;32m      8\u001b[0m \u001b[1;32mfor\u001b[0m \u001b[0mi\u001b[0m \u001b[1;32min\u001b[0m \u001b[0mrange\u001b[0m\u001b[1;33m(\u001b[0m\u001b[0mn\u001b[0m\u001b[1;33m//\u001b[0m\u001b[1;36m3\u001b[0m\u001b[1;33m)\u001b[0m\u001b[1;33m:\u001b[0m\u001b[1;33m\u001b[0m\u001b[1;33m\u001b[0m\u001b[0m\n\u001b[0;32m      9\u001b[0m     \u001b[1;32mfor\u001b[0m \u001b[0mj\u001b[0m \u001b[1;32min\u001b[0m \u001b[0mrange\u001b[0m\u001b[1;33m(\u001b[0m\u001b[1;36m3\u001b[0m\u001b[1;33m)\u001b[0m\u001b[1;33m:\u001b[0m\u001b[1;33m\u001b[0m\u001b[1;33m\u001b[0m\u001b[0m\n\u001b[1;32m---> 10\u001b[1;33m         \u001b[0mar\u001b[0m\u001b[1;33m[\u001b[0m\u001b[1;36m0\u001b[0m\u001b[1;33m]\u001b[0m\u001b[1;33m[\u001b[0m\u001b[0mj\u001b[0m\u001b[1;33m]\u001b[0m\u001b[1;33m.\u001b[0m\u001b[0mappend\u001b[0m\u001b[1;33m(\u001b[0m\u001b[0mx1\u001b[0m\u001b[1;33m[\u001b[0m\u001b[0mi\u001b[0m\u001b[1;33m]\u001b[0m\u001b[1;33m)\u001b[0m\u001b[1;33m\u001b[0m\u001b[1;33m\u001b[0m\u001b[0m\n\u001b[0m\u001b[0;32m     11\u001b[0m         \u001b[0mar\u001b[0m\u001b[1;33m[\u001b[0m\u001b[1;36m1\u001b[0m\u001b[1;33m]\u001b[0m\u001b[1;33m[\u001b[0m\u001b[0mj\u001b[0m\u001b[1;33m]\u001b[0m\u001b[1;33m.\u001b[0m\u001b[0mappend\u001b[0m\u001b[1;33m(\u001b[0m\u001b[0mx2\u001b[0m\u001b[1;33m[\u001b[0m\u001b[0mi\u001b[0m\u001b[1;33m]\u001b[0m\u001b[1;33m)\u001b[0m\u001b[1;33m\u001b[0m\u001b[1;33m\u001b[0m\u001b[0m\n\u001b[0;32m     12\u001b[0m         \u001b[0mar\u001b[0m\u001b[1;33m[\u001b[0m\u001b[1;36m2\u001b[0m\u001b[1;33m]\u001b[0m\u001b[1;33m[\u001b[0m\u001b[0mj\u001b[0m\u001b[1;33m]\u001b[0m\u001b[1;33m.\u001b[0m\u001b[0mappend\u001b[0m\u001b[1;33m(\u001b[0m\u001b[0mx3\u001b[0m\u001b[1;33m[\u001b[0m\u001b[0mi\u001b[0m\u001b[1;33m]\u001b[0m\u001b[1;33m)\u001b[0m\u001b[1;33m\u001b[0m\u001b[1;33m\u001b[0m\u001b[0m\n",
      "\u001b[1;31mNameError\u001b[0m: name 'ar' is not defined"
     ]
    }
   ],
   "source": [
    "n=int(input())\n",
    "x1=input().split(\"#\")\n",
    "x2=input().split(\"#\")\n",
    "x3=input().split(\"#\")\n",
    "print(x1)\n",
    "print(x2)\n",
    "print(x3)\n",
    "ar=[[][]]\n",
    "for i in range(len(x1)):\n",
    "    for j in range(3):\n",
    "        ar[0][j].append(x1[i])\n",
    "        ar[1][j].append(x2[i])\n",
    "        ar[2][j].append(x3[i])"
   ]
  },
  {
   "cell_type": "code",
   "execution_count": 5,
   "metadata": {},
   "outputs": [
    {
     "name": "stdout",
     "output_type": "stream",
     "text": [
      ",                chandu             .\n"
     ]
    }
   ],
   "source": [
    "c=\"    ,                chandu             .          \"\n",
    "print(c.strip())"
   ]
  },
  {
   "cell_type": "code",
   "execution_count": 14,
   "metadata": {},
   "outputs": [
    {
     "name": "stdout",
     "output_type": "stream",
     "text": [
      "8\n",
      "[' asdd ']\n"
     ]
    }
   ],
   "source": [
    "import re\n",
    "mystring=\"atrdtdd jhkh asdd aers\"\n",
    "res = re.findall(' a[\\w]* ', mystring)\n",
    "x=mystring.index('j')\n",
    "print(x)\n",
    "print(res)"
   ]
  },
  {
   "cell_type": "code",
   "execution_count": 17,
   "metadata": {},
   "outputs": [
    {
     "ename": "NameError",
     "evalue": "name 'SMTPException' is not defined",
     "output_type": "error",
     "traceback": [
      "\u001b[1;31m---------------------------------------------------------------------------\u001b[0m",
      "\u001b[1;31mOSError\u001b[0m                                   Traceback (most recent call last)",
      "\u001b[1;32m<ipython-input-17-917cb9d6f3a2>\u001b[0m in \u001b[0;36m<module>\u001b[1;34m\u001b[0m\n\u001b[0;32m     13\u001b[0m \u001b[1;32mtry\u001b[0m\u001b[1;33m:\u001b[0m\u001b[1;33m\u001b[0m\u001b[1;33m\u001b[0m\u001b[0m\n\u001b[1;32m---> 14\u001b[1;33m     \u001b[0msmtpObj\u001b[0m \u001b[1;33m=\u001b[0m \u001b[0msmtplib\u001b[0m\u001b[1;33m.\u001b[0m\u001b[0mSMTP\u001b[0m\u001b[1;33m(\u001b[0m\u001b[1;34m'localhost'\u001b[0m\u001b[1;33m)\u001b[0m\u001b[1;33m\u001b[0m\u001b[1;33m\u001b[0m\u001b[0m\n\u001b[0m\u001b[0;32m     15\u001b[0m     \u001b[0msmtpObj\u001b[0m\u001b[1;33m.\u001b[0m\u001b[0msendmail\u001b[0m\u001b[1;33m(\u001b[0m\u001b[0msender\u001b[0m\u001b[1;33m,\u001b[0m \u001b[0mreceivers\u001b[0m\u001b[1;33m,\u001b[0m \u001b[0mmessage\u001b[0m\u001b[1;33m)\u001b[0m\u001b[1;33m\u001b[0m\u001b[1;33m\u001b[0m\u001b[0m\n",
      "\u001b[1;32m~\\anaconda3\\lib\\smtplib.py\u001b[0m in \u001b[0;36m__init__\u001b[1;34m(self, host, port, local_hostname, timeout, source_address)\u001b[0m\n\u001b[0;32m    250\u001b[0m         \u001b[1;32mif\u001b[0m \u001b[0mhost\u001b[0m\u001b[1;33m:\u001b[0m\u001b[1;33m\u001b[0m\u001b[1;33m\u001b[0m\u001b[0m\n\u001b[1;32m--> 251\u001b[1;33m             \u001b[1;33m(\u001b[0m\u001b[0mcode\u001b[0m\u001b[1;33m,\u001b[0m \u001b[0mmsg\u001b[0m\u001b[1;33m)\u001b[0m \u001b[1;33m=\u001b[0m \u001b[0mself\u001b[0m\u001b[1;33m.\u001b[0m\u001b[0mconnect\u001b[0m\u001b[1;33m(\u001b[0m\u001b[0mhost\u001b[0m\u001b[1;33m,\u001b[0m \u001b[0mport\u001b[0m\u001b[1;33m)\u001b[0m\u001b[1;33m\u001b[0m\u001b[1;33m\u001b[0m\u001b[0m\n\u001b[0m\u001b[0;32m    252\u001b[0m             \u001b[1;32mif\u001b[0m \u001b[0mcode\u001b[0m \u001b[1;33m!=\u001b[0m \u001b[1;36m220\u001b[0m\u001b[1;33m:\u001b[0m\u001b[1;33m\u001b[0m\u001b[1;33m\u001b[0m\u001b[0m\n",
      "\u001b[1;32m~\\anaconda3\\lib\\smtplib.py\u001b[0m in \u001b[0;36mconnect\u001b[1;34m(self, host, port, source_address)\u001b[0m\n\u001b[0;32m    335\u001b[0m             \u001b[0mself\u001b[0m\u001b[1;33m.\u001b[0m\u001b[0m_print_debug\u001b[0m\u001b[1;33m(\u001b[0m\u001b[1;34m'connect:'\u001b[0m\u001b[1;33m,\u001b[0m \u001b[1;33m(\u001b[0m\u001b[0mhost\u001b[0m\u001b[1;33m,\u001b[0m \u001b[0mport\u001b[0m\u001b[1;33m)\u001b[0m\u001b[1;33m)\u001b[0m\u001b[1;33m\u001b[0m\u001b[1;33m\u001b[0m\u001b[0m\n\u001b[1;32m--> 336\u001b[1;33m         \u001b[0mself\u001b[0m\u001b[1;33m.\u001b[0m\u001b[0msock\u001b[0m \u001b[1;33m=\u001b[0m \u001b[0mself\u001b[0m\u001b[1;33m.\u001b[0m\u001b[0m_get_socket\u001b[0m\u001b[1;33m(\u001b[0m\u001b[0mhost\u001b[0m\u001b[1;33m,\u001b[0m \u001b[0mport\u001b[0m\u001b[1;33m,\u001b[0m \u001b[0mself\u001b[0m\u001b[1;33m.\u001b[0m\u001b[0mtimeout\u001b[0m\u001b[1;33m)\u001b[0m\u001b[1;33m\u001b[0m\u001b[1;33m\u001b[0m\u001b[0m\n\u001b[0m\u001b[0;32m    337\u001b[0m         \u001b[0mself\u001b[0m\u001b[1;33m.\u001b[0m\u001b[0mfile\u001b[0m \u001b[1;33m=\u001b[0m \u001b[1;32mNone\u001b[0m\u001b[1;33m\u001b[0m\u001b[1;33m\u001b[0m\u001b[0m\n",
      "\u001b[1;32m~\\anaconda3\\lib\\smtplib.py\u001b[0m in \u001b[0;36m_get_socket\u001b[1;34m(self, host, port, timeout)\u001b[0m\n\u001b[0;32m    306\u001b[0m         return socket.create_connection((host, port), timeout,\n\u001b[1;32m--> 307\u001b[1;33m                                         self.source_address)\n\u001b[0m\u001b[0;32m    308\u001b[0m \u001b[1;33m\u001b[0m\u001b[0m\n",
      "\u001b[1;32m~\\anaconda3\\lib\\socket.py\u001b[0m in \u001b[0;36mcreate_connection\u001b[1;34m(address, timeout, source_address)\u001b[0m\n\u001b[0;32m    727\u001b[0m         \u001b[1;32mtry\u001b[0m\u001b[1;33m:\u001b[0m\u001b[1;33m\u001b[0m\u001b[1;33m\u001b[0m\u001b[0m\n\u001b[1;32m--> 728\u001b[1;33m             \u001b[1;32mraise\u001b[0m \u001b[0merr\u001b[0m\u001b[1;33m\u001b[0m\u001b[1;33m\u001b[0m\u001b[0m\n\u001b[0m\u001b[0;32m    729\u001b[0m         \u001b[1;32mfinally\u001b[0m\u001b[1;33m:\u001b[0m\u001b[1;33m\u001b[0m\u001b[1;33m\u001b[0m\u001b[0m\n",
      "\u001b[1;32m~\\anaconda3\\lib\\socket.py\u001b[0m in \u001b[0;36mcreate_connection\u001b[1;34m(address, timeout, source_address)\u001b[0m\n\u001b[0;32m    715\u001b[0m                 \u001b[0msock\u001b[0m\u001b[1;33m.\u001b[0m\u001b[0mbind\u001b[0m\u001b[1;33m(\u001b[0m\u001b[0msource_address\u001b[0m\u001b[1;33m)\u001b[0m\u001b[1;33m\u001b[0m\u001b[1;33m\u001b[0m\u001b[0m\n\u001b[1;32m--> 716\u001b[1;33m             \u001b[0msock\u001b[0m\u001b[1;33m.\u001b[0m\u001b[0mconnect\u001b[0m\u001b[1;33m(\u001b[0m\u001b[0msa\u001b[0m\u001b[1;33m)\u001b[0m\u001b[1;33m\u001b[0m\u001b[1;33m\u001b[0m\u001b[0m\n\u001b[0m\u001b[0;32m    717\u001b[0m             \u001b[1;31m# Break explicitly a reference cycle\u001b[0m\u001b[1;33m\u001b[0m\u001b[1;33m\u001b[0m\u001b[1;33m\u001b[0m\u001b[0m\n",
      "\u001b[1;31mOSError\u001b[0m: [WinError 10013] An attempt was made to access a socket in a way forbidden by its access permissions",
      "\nDuring handling of the above exception, another exception occurred:\n",
      "\u001b[1;31mNameError\u001b[0m                                 Traceback (most recent call last)",
      "\u001b[1;32m<ipython-input-17-917cb9d6f3a2>\u001b[0m in \u001b[0;36m<module>\u001b[1;34m\u001b[0m\n\u001b[0;32m     15\u001b[0m     \u001b[0msmtpObj\u001b[0m\u001b[1;33m.\u001b[0m\u001b[0msendmail\u001b[0m\u001b[1;33m(\u001b[0m\u001b[0msender\u001b[0m\u001b[1;33m,\u001b[0m \u001b[0mreceivers\u001b[0m\u001b[1;33m,\u001b[0m \u001b[0mmessage\u001b[0m\u001b[1;33m)\u001b[0m\u001b[1;33m\u001b[0m\u001b[1;33m\u001b[0m\u001b[0m\n\u001b[0;32m     16\u001b[0m     \u001b[0mprint\u001b[0m\u001b[1;33m(\u001b[0m\u001b[1;34m\"Successfully sent email\"\u001b[0m\u001b[1;33m)\u001b[0m\u001b[1;33m\u001b[0m\u001b[1;33m\u001b[0m\u001b[0m\n\u001b[1;32m---> 17\u001b[1;33m \u001b[1;32mexcept\u001b[0m \u001b[0mSMTPException\u001b[0m\u001b[1;33m:\u001b[0m\u001b[1;33m\u001b[0m\u001b[1;33m\u001b[0m\u001b[0m\n\u001b[0m\u001b[0;32m     18\u001b[0m     \u001b[0mprint\u001b[0m\u001b[1;33m(\u001b[0m\u001b[1;34m\"Error: unable to send email\"\u001b[0m\u001b[1;33m)\u001b[0m\u001b[1;33m\u001b[0m\u001b[1;33m\u001b[0m\u001b[0m\n",
      "\u001b[1;31mNameError\u001b[0m: name 'SMTPException' is not defined"
     ]
    }
   ],
   "source": [
    "import smtplib\n",
    "\n",
    "sender = 'chandunaragam@gmail.com'\n",
    "receivers = ['chandunaragam@gmail.com']\n",
    "\n",
    "message = \"\"\"From: From Person <from@fromdomain.com>\n",
    "To: To Person <to@todomain.com>\n",
    "Subject: SMTP e-mail test\n",
    "\n",
    "This is a test e-mail message.\n",
    "\"\"\"\n",
    "\n",
    "try:\n",
    "    smtpObj = smtplib.SMTP('localhost')\n",
    "    smtpObj.sendmail(sender, receivers, message)         \n",
    "    print(\"Successfully sent email\")\n",
    "except SMTPException:\n",
    "    print(\"Error: unable to send email\")"
   ]
  },
  {
   "cell_type": "code",
   "execution_count": 19,
   "metadata": {},
   "outputs": [
    {
     "name": "stdout",
     "output_type": "stream",
     "text": [
      "15\n",
      "***#***#***#***\n",
      "***#***#***#***\n",
      "***#***#***#***\n",
      "[['***#***#***#***'], ['***#***#***#***'], ['***#***#***#***']]\n",
      "i 0\n",
      "i 1\n"
     ]
    },
    {
     "ename": "IndexError",
     "evalue": "list index out of range",
     "output_type": "error",
     "traceback": [
      "\u001b[1;31m---------------------------------------------------------------------------\u001b[0m",
      "\u001b[1;31mIndexError\u001b[0m                                Traceback (most recent call last)",
      "\u001b[1;32m<ipython-input-19-165e66fea806>\u001b[0m in \u001b[0;36m<module>\u001b[1;34m\u001b[0m\n\u001b[0;32m     19\u001b[0m \u001b[1;32mwhile\u001b[0m \u001b[0mi\u001b[0m\u001b[1;33m<\u001b[0m\u001b[0mn\u001b[0m\u001b[1;33m:\u001b[0m\u001b[1;33m\u001b[0m\u001b[1;33m\u001b[0m\u001b[0m\n\u001b[0;32m     20\u001b[0m     \u001b[0mprint\u001b[0m\u001b[1;33m(\u001b[0m\u001b[1;34m\"i\"\u001b[0m\u001b[1;33m,\u001b[0m\u001b[0mi\u001b[0m\u001b[1;33m)\u001b[0m\u001b[1;33m\u001b[0m\u001b[1;33m\u001b[0m\u001b[0m\n\u001b[1;32m---> 21\u001b[1;33m     \u001b[1;32mif\u001b[0m \u001b[0ms\u001b[0m\u001b[1;33m[\u001b[0m\u001b[1;36m0\u001b[0m\u001b[1;33m]\u001b[0m\u001b[1;33m[\u001b[0m\u001b[0mi\u001b[0m\u001b[1;33m]\u001b[0m\u001b[1;33m==\u001b[0m\u001b[1;34m'#'\u001b[0m\u001b[1;33m:\u001b[0m\u001b[1;33m\u001b[0m\u001b[1;33m\u001b[0m\u001b[0m\n\u001b[0m\u001b[0;32m     22\u001b[0m         \u001b[1;32mif\u001b[0m \u001b[0ms\u001b[0m\u001b[1;33m[\u001b[0m\u001b[1;36m1\u001b[0m\u001b[1;33m]\u001b[0m\u001b[1;33m[\u001b[0m\u001b[0mi\u001b[0m\u001b[1;33m]\u001b[0m\u001b[1;33m==\u001b[0m\u001b[1;34m'#'\u001b[0m \u001b[1;32mor\u001b[0m \u001b[0ms\u001b[0m\u001b[1;33m[\u001b[0m\u001b[1;36m2\u001b[0m\u001b[1;33m]\u001b[0m\u001b[1;33m[\u001b[0m\u001b[0mi\u001b[0m\u001b[1;33m]\u001b[0m\u001b[1;33m==\u001b[0m\u001b[1;34m'#'\u001b[0m\u001b[1;33m:\u001b[0m\u001b[1;33m\u001b[0m\u001b[1;33m\u001b[0m\u001b[0m\n\u001b[0;32m     23\u001b[0m             \u001b[0mreq\u001b[0m\u001b[1;33m+=\u001b[0m\u001b[1;34m'#'\u001b[0m\u001b[1;33m\u001b[0m\u001b[1;33m\u001b[0m\u001b[0m\n",
      "\u001b[1;31mIndexError\u001b[0m: list index out of range"
     ]
    }
   ],
   "source": [
    "A=[['.','*','.'],['*','*','*'],['*','.','*']]\n",
    "E=[['*' for i in range(3)]for i in range(3)]\n",
    "I=[['*','*','*'],['.','*','.'],['*' for i in range(3)]]\n",
    "O=[['*' for i in range(3)],['*','.','*'],['*' for i in range(3)]]\n",
    "U=[['*','.','*'],['*','.','*'],['*' for i in range(3)]]\n",
    "def str_check(check):\n",
    "  l=['a',A,'e',E,'i',I,'o',O,'u',U]\n",
    "  for j in range(1,len(l),2):\n",
    "    if check==l[j]:\n",
    "        return l[j-1]\n",
    "        break\n",
    "n=int(input())\n",
    "s=[]\n",
    "for i in range(3):\n",
    "  s.append(list(map(str,input().split())))\n",
    "i=0\n",
    "req=\"\"\n",
    "print(s)\n",
    "while i<n:\n",
    "    print(\"i\",i)\n",
    "    if s[0][i]=='#':\n",
    "        if s[1][i]=='#' or s[2][i]=='#':\n",
    "            req+='#'\n",
    "            i+=1\n",
    "    elif s[0][i]=='*' or s[0][i]=='.':\n",
    "        check=[s[0][i:i+3],s[1][i:i+3],s[2][i:i+3]]\n",
    "        if check in [A,E,I,O,U]:\n",
    "            req+=str_check(check).upper()\n",
    "            i+=3\n",
    "        else:\n",
    "            i+=1\n",
    "    else:\n",
    "        i+=1 \n",
    "print(req)"
   ]
  },
  {
   "cell_type": "code",
   "execution_count": 27,
   "metadata": {},
   "outputs": [
    {
     "name": "stdout",
     "output_type": "stream",
     "text": [
      "[[1. 0. 0. 0.]\n",
      " [0. 1. 0. 0.]\n",
      " [0. 0. 1. 0.]\n",
      " [0. 0. 0. 1.]]\n",
      "[[0 1 2]\n",
      " [3 4 5]\n",
      " [6 7 8]]\n"
     ]
    }
   ],
   "source": [
    "import numpy as np\n",
    "arr=np.eye(4)\n",
    "arr8 = np.arange(0,9).reshape(3,3)\n",
    "print(arr)\n",
    "print(arr8)"
   ]
  },
  {
   "cell_type": "code",
   "execution_count": 23,
   "metadata": {},
   "outputs": [
    {
     "name": "stdout",
     "output_type": "stream",
     "text": [
      "[[1 0 0 0]\n",
      " [0 2 0 0]\n",
      " [0 0 3 0]\n",
      " [0 0 0 4]]\n"
     ]
    }
   ],
   "source": [
    "import numpy as np\n",
    "arr3 = np.diag([1,2,3,4])\n",
    "print(arr3)"
   ]
  },
  {
   "cell_type": "code",
   "execution_count": 18,
   "metadata": {},
   "outputs": [
    {
     "name": "stdout",
     "output_type": "stream",
     "text": [
      "1234\n",
      "1 2 617 1234 "
     ]
    }
   ],
   "source": [
    "x=input()\n",
    "res=[]\n",
    "if x.isdigit():\n",
    "    x=int(x)\n",
    "    for i in range(1,int(x//2)+1):\n",
    "        if x%i==0:\n",
    "            res.append(x//i)\n",
    "            res.append(x//(x//i))\n",
    "    result=list(set(res))\n",
    "    result.sort()\n",
    "    for j in result:\n",
    "        print(int(j),end=\" \")\n",
    "else:\n",
    "    print(\"invalid input\")\n",
    "            "
   ]
  },
  {
   "cell_type": "code",
   "execution_count": 48,
   "metadata": {},
   "outputs": [
    {
     "name": "stdout",
     "output_type": "stream",
     "text": [
      "3\n",
      "2\n",
      "2\n",
      "4\n",
      "\n",
      "9\n"
     ]
    }
   ],
   "source": [
    "x=int(input())\n",
    "lis=[]\n",
    "while True:\n",
    "    i=input()\n",
    "    if i:\n",
    "        lis.append(int(i))\n",
    "    else:\n",
    "        break\n",
    "if len(lis)!=x:\n",
    "    print(\"Wrong input\")\n",
    "else:\n",
    "    for j in range(1,x):\n",
    "        if lis[j-1]==lis[j]:\n",
    "            lis[j]=lis[j]+1\n",
    "    print(sum(lis))"
   ]
  },
  {
   "cell_type": "code",
   "execution_count": 28,
   "metadata": {},
   "outputs": [
    {
     "name": "stdout",
     "output_type": "stream",
     "text": [
      "150\n",
      "556\n"
     ]
    }
   ],
   "source": [
    "import math\n",
    "n =10000\n",
    "lis = list(range(2,n+1))\n",
    "i=0\n",
    "while(lis[i]<=math.sqrt(n)):\n",
    "    if(lis[i]!=0):\n",
    "        for j in range(lis[i]**2-2,n-1,lis[i]):\n",
    "            lis[j]=0\n",
    "    i+=1\n",
    "lis = list(filter(lambda a: a!=0,lis))\n",
    "primes=lis\n",
    "val=[]\n",
    "fin=[]\n",
    "a=int(input())       \n",
    "if a in primes:\n",
    "    print(\"not possible\")\n",
    "else:\n",
    "    for i in range(2,9):\n",
    "        if(a%i==0):\n",
    "            val.append(i)\n",
    "            a1=a//i\n",
    "            if a1<10:\n",
    "                val.append(a//i)\n",
    "            else:\n",
    "                for n in range(2,9):\n",
    "                    if(a1%n==0):\n",
    "                        val.append(n)\n",
    "                        val.append(a1//n)\n",
    "                \n",
    "              \n",
    "\n",
    "mult=1\n",
    "num=\"\"\n",
    "while(mult!=a):\n",
    "    mult=mult*val[-1]\n",
    "    num=num+str(val[-1])\n",
    "    del val[-1]\n",
    "    \n",
    "print(\"\".join(sorted(num)))\n"
   ]
  },
  {
   "cell_type": "code",
   "execution_count": 3,
   "metadata": {},
   "outputs": [
    {
     "name": "stdout",
     "output_type": "stream",
     "text": [
      "abc\n",
      "0\n",
      "1\n",
      "abc 1\n",
      "ABC 1\n",
      "NUM 0\n"
     ]
    }
   ],
   "source": [
    "sabc='abcdefghijklmnopqrstuvwxyz'\n",
    "cabc='ABCDEFGHIJKLMNOPQRSTUVWXYZ'\n",
    "NUM='0123456789'\n",
    "x=input()\n",
    "for i in range(len(x)-1):\n",
    "    if x[i] in sabc:\n",
    "        cntsabc=0\n",
    "        y1=sabc.index(x[i])\n",
    "        yy1=sabc.index(x[i+1])\n",
    "        if x[i+1]==sabc[y1+1]:\n",
    "            cntsabc=cntsabc+1\n",
    "    elif x[i] in cabc:\n",
    "        cntcabc=0\n",
    "        y2=cabc.index(x[i])\n",
    "        if x[i+1]==cabc[y2+1]:\n",
    "            cntcabc=cntcabc+1\n",
    "    elif x[i] in NUM:\n",
    "        cntnum=0\n",
    "        y3=NUM.index(x[i])\n",
    "        if x[i+1]==NUM[y3+1]:\n",
    "            cntnum=cntnum+1\n",
    "print(\"abc\",cntsabc)\n",
    "print(\"ABC\",cntcabc)\n",
    "print(\"NUM\",cntnum)\n",
    "    "
   ]
  },
  {
   "cell_type": "code",
   "execution_count": 19,
   "metadata": {},
   "outputs": [
    {
     "name": "stdout",
     "output_type": "stream",
     "text": [
      "abcghi\n",
      "a-i$1a-i$1\n",
      "['a', 'b', 'c', 'g', 'h', 'i']\n",
      "[]\n",
      "[]\n"
     ]
    }
   ],
   "source": [
    "x=input()\n",
    "sabc='abcdefghijklmnopqrstuvwxyz'\n",
    "cabc='ABCDEFGHIJKLMNOPQRSTUVWXYZ'\n",
    "num='0123456789'\n",
    "sabcl=[]\n",
    "cabcl=[]\n",
    "numl=[]\n",
    "length=len(x)\n",
    "for i in x:\n",
    "    if i in sabc:\n",
    "        sabcl.append(i)\n",
    "    elif i in cabc:\n",
    "        cabcl.append(i)\n",
    "    elif i in num:\n",
    "        numl.append(i)\n",
    "strr=\"\"\n",
    "for it1 in range(len(sabcl)-1):\n",
    "    asc1=ord(sabcl[it1])\n",
    "    asc2=ord(sabcl[it1+1])\n",
    "    diff1=asc2-asc1\n",
    "if len(sabcl)>0:\n",
    "    strr=strr+sabcl[0]+\"-\"+sabcl[-1]+\"$\"+str(diff1)\n",
    "for it2 in range(len(cabcl)-1):\n",
    "    asc11=ord(cabcl[it2])\n",
    "    asc22=ord(cabcl[it2+1])\n",
    "    diff2=asc22-asc11\n",
    "if len(cabcl)>0:\n",
    "    strr=strr+cabcl[0]+\"-\"+cabcl[-1]+\"$\"+str(diff2)\n",
    "for it3 in range(len(numl)-1):\n",
    "    asc111=ord(numl[it3])\n",
    "    asc222=ord(numl[it3+1])\n",
    "    diff3=asc222-asc111\n",
    "if len(numl)>0:\n",
    "    strr=strr+numl[0]+\"-\"+numl[-1]+\"$\"+str(diff3)\n",
    "print(strr)   \n",
    "    \n",
    "print(sabcl)\n",
    "print(cabcl)\n",
    "print(numl)\n",
    "    "
   ]
  },
  {
   "cell_type": "code",
   "execution_count": null,
   "metadata": {},
   "outputs": [],
   "source": [
    "x=input()\n",
    "arr=[]\n",
    "for i in range(len(x)):\n",
    "    dif=ord(x[i+1])-ord(x[i])\n",
    "    while(ord(x[i+1])-ord(x[i])==dif):\n",
    "        arr[0]=x[i]\n",
    "        arr[1]=x[i+1]\n",
    "        \n",
    "        \n",
    "        \n",
    "    "
   ]
  },
  {
   "cell_type": "code",
   "execution_count": 39,
   "metadata": {},
   "outputs": [
    {
     "ename": "TypeError",
     "evalue": "ord() expected string of length 1, but int found",
     "output_type": "error",
     "traceback": [
      "\u001b[1;31m---------------------------------------------------------------------------\u001b[0m",
      "\u001b[1;31mTypeError\u001b[0m                                 Traceback (most recent call last)",
      "\u001b[1;32m<ipython-input-39-150e3dd8a0e3>\u001b[0m in \u001b[0;36m<module>\u001b[1;34m\u001b[0m\n\u001b[0;32m      2\u001b[0m \u001b[0ma2\u001b[0m\u001b[1;33m=\u001b[0m\u001b[1;33m[\u001b[0m\u001b[1;36m1\u001b[0m\u001b[1;33m,\u001b[0m\u001b[1;36m3\u001b[0m\u001b[1;33m,\u001b[0m\u001b[1;36m5\u001b[0m\u001b[1;33m]\u001b[0m\u001b[1;33m\u001b[0m\u001b[1;33m\u001b[0m\u001b[0m\n\u001b[0;32m      3\u001b[0m \u001b[1;33m[\u001b[0m\u001b[0mord\u001b[0m\u001b[1;33m(\u001b[0m\u001b[0mx\u001b[0m\u001b[1;33m)\u001b[0m \u001b[1;33m-\u001b[0m \u001b[0mord\u001b[0m\u001b[1;33m(\u001b[0m\u001b[0ma1\u001b[0m\u001b[1;33m[\u001b[0m\u001b[0mi\u001b[0m \u001b[1;33m-\u001b[0m \u001b[1;36m1\u001b[0m\u001b[1;33m]\u001b[0m\u001b[1;33m)\u001b[0m \u001b[1;32mfor\u001b[0m \u001b[0mi\u001b[0m\u001b[1;33m,\u001b[0m \u001b[0mx\u001b[0m \u001b[1;32min\u001b[0m \u001b[0menumerate\u001b[0m\u001b[1;33m(\u001b[0m\u001b[0ma1\u001b[0m\u001b[1;33m)\u001b[0m\u001b[1;33m]\u001b[0m\u001b[1;33m[\u001b[0m\u001b[1;36m1\u001b[0m\u001b[1;33m:\u001b[0m\u001b[1;33m]\u001b[0m\u001b[1;33m\u001b[0m\u001b[1;33m\u001b[0m\u001b[0m\n\u001b[1;32m----> 4\u001b[1;33m \u001b[1;33m[\u001b[0m\u001b[0mord\u001b[0m\u001b[1;33m(\u001b[0m\u001b[0mx\u001b[0m\u001b[1;33m)\u001b[0m \u001b[1;33m-\u001b[0m \u001b[0mord\u001b[0m\u001b[1;33m(\u001b[0m\u001b[0ma2\u001b[0m\u001b[1;33m[\u001b[0m\u001b[0mi\u001b[0m \u001b[1;33m-\u001b[0m \u001b[1;36m1\u001b[0m\u001b[1;33m]\u001b[0m\u001b[1;33m)\u001b[0m \u001b[1;32mfor\u001b[0m \u001b[0mi\u001b[0m\u001b[1;33m,\u001b[0m \u001b[0mx\u001b[0m \u001b[1;32min\u001b[0m \u001b[0menumerate\u001b[0m\u001b[1;33m(\u001b[0m\u001b[0ma2\u001b[0m\u001b[1;33m)\u001b[0m\u001b[1;33m]\u001b[0m\u001b[1;33m[\u001b[0m\u001b[1;36m1\u001b[0m\u001b[1;33m:\u001b[0m\u001b[1;33m]\u001b[0m\u001b[1;33m\u001b[0m\u001b[1;33m\u001b[0m\u001b[0m\n\u001b[0m",
      "\u001b[1;32m<ipython-input-39-150e3dd8a0e3>\u001b[0m in \u001b[0;36m<listcomp>\u001b[1;34m(.0)\u001b[0m\n\u001b[0;32m      2\u001b[0m \u001b[0ma2\u001b[0m\u001b[1;33m=\u001b[0m\u001b[1;33m[\u001b[0m\u001b[1;36m1\u001b[0m\u001b[1;33m,\u001b[0m\u001b[1;36m3\u001b[0m\u001b[1;33m,\u001b[0m\u001b[1;36m5\u001b[0m\u001b[1;33m]\u001b[0m\u001b[1;33m\u001b[0m\u001b[1;33m\u001b[0m\u001b[0m\n\u001b[0;32m      3\u001b[0m \u001b[1;33m[\u001b[0m\u001b[0mord\u001b[0m\u001b[1;33m(\u001b[0m\u001b[0mx\u001b[0m\u001b[1;33m)\u001b[0m \u001b[1;33m-\u001b[0m \u001b[0mord\u001b[0m\u001b[1;33m(\u001b[0m\u001b[0ma1\u001b[0m\u001b[1;33m[\u001b[0m\u001b[0mi\u001b[0m \u001b[1;33m-\u001b[0m \u001b[1;36m1\u001b[0m\u001b[1;33m]\u001b[0m\u001b[1;33m)\u001b[0m \u001b[1;32mfor\u001b[0m \u001b[0mi\u001b[0m\u001b[1;33m,\u001b[0m \u001b[0mx\u001b[0m \u001b[1;32min\u001b[0m \u001b[0menumerate\u001b[0m\u001b[1;33m(\u001b[0m\u001b[0ma1\u001b[0m\u001b[1;33m)\u001b[0m\u001b[1;33m]\u001b[0m\u001b[1;33m[\u001b[0m\u001b[1;36m1\u001b[0m\u001b[1;33m:\u001b[0m\u001b[1;33m]\u001b[0m\u001b[1;33m\u001b[0m\u001b[1;33m\u001b[0m\u001b[0m\n\u001b[1;32m----> 4\u001b[1;33m \u001b[1;33m[\u001b[0m\u001b[0mord\u001b[0m\u001b[1;33m(\u001b[0m\u001b[0mx\u001b[0m\u001b[1;33m)\u001b[0m \u001b[1;33m-\u001b[0m \u001b[0mord\u001b[0m\u001b[1;33m(\u001b[0m\u001b[0ma2\u001b[0m\u001b[1;33m[\u001b[0m\u001b[0mi\u001b[0m \u001b[1;33m-\u001b[0m \u001b[1;36m1\u001b[0m\u001b[1;33m]\u001b[0m\u001b[1;33m)\u001b[0m \u001b[1;32mfor\u001b[0m \u001b[0mi\u001b[0m\u001b[1;33m,\u001b[0m \u001b[0mx\u001b[0m \u001b[1;32min\u001b[0m \u001b[0menumerate\u001b[0m\u001b[1;33m(\u001b[0m\u001b[0ma2\u001b[0m\u001b[1;33m)\u001b[0m\u001b[1;33m]\u001b[0m\u001b[1;33m[\u001b[0m\u001b[1;36m1\u001b[0m\u001b[1;33m:\u001b[0m\u001b[1;33m]\u001b[0m\u001b[1;33m\u001b[0m\u001b[1;33m\u001b[0m\u001b[0m\n\u001b[0m",
      "\u001b[1;31mTypeError\u001b[0m: ord() expected string of length 1, but int found"
     ]
    }
   ],
   "source": [
    "a1=['a','b','c']\n",
    "a2=[1,3,5]\n",
    "[ord(x) - ord(a1[i - 1]) for i, x in enumerate(a1)][1:]\n",
    "[ord(x) - ord(a2[i - 1]) for i, x in enumerate(a2)][1:]"
   ]
  },
  {
   "cell_type": "code",
   "execution_count": 37,
   "metadata": {},
   "outputs": [
    {
     "name": "stdout",
     "output_type": "stream",
     "text": [
      "Read,dear\n",
      "Rome,more\n",
      "post,pots,stop\n"
     ]
    }
   ],
   "source": [
    "alp=\"abcdefghijklmnopqrstuvwxyzABCDEFGHIJKLMNOPQRSTUVWXYZ\"\n",
    "lis=[]\n",
    "with open(\"C:\\\\Users\\\\hp\\\\Downloads\\\\anagrams-sample1.txt\",\"r\") as file:\n",
    "    for line in file:\n",
    "        for word in line.split(\" \"):\n",
    "            lis.append(word)\n",
    "temp=[]\n",
    "for i in range(0,len(lis)):\n",
    "    if len(lis[i])>=4:\n",
    "        if lis[i][-1] not in alp:\n",
    "            if lis[i][0:-1] not in temp:\n",
    "                temp.append(lis[i][0:-1])\n",
    "        else:\n",
    "            if lis[i] not in temp:\n",
    "                temp.append(lis[i])\n",
    "visited=[]\n",
    "res=[]\n",
    "for i in range(0,len(temp)-1):\n",
    "    t1=list(temp[i].lower())\n",
    "    t1.sort()\n",
    "    anag=[temp[i]]\n",
    "    for j in range(i+1,len(temp)):\n",
    "        if j not in visited and len(temp[i])==len(temp[j]) and temp[i]!=temp[j]:\n",
    "            t2=list(temp[j].lower())\n",
    "            t1.sort()\n",
    "            t2.sort()\n",
    "            if t1==t2:\n",
    "                anag.append(temp[j])\n",
    "                visited.append(j)\n",
    "    if len(anag)>=2:\n",
    "        anag.sort()\n",
    "        res.append(anag)\n",
    "res.sort(key=len)\n",
    "for i in res:\n",
    "    print(\",\".join(i))\n",
    "    "
   ]
  },
  {
   "cell_type": "code",
   "execution_count": 96,
   "metadata": {},
   "outputs": [
    {
     "name": "stdout",
     "output_type": "stream",
     "text": [
      "Read,dear\n",
      "Rome,more\n",
      "happen,happen\n",
      "post,pots,pots,stop\n"
     ]
    }
   ],
   "source": [
    "f=open('C:\\\\Users\\\\hp\\\\Downloads\\\\anagrams-sample1.txt','r')\n",
    "res=[]\n",
    "lis=[',','.']\n",
    "while True:\n",
    "    c=f.readline()\n",
    "    if c==\"\":\n",
    "        break\n",
    "    s=list(c.split(\" \"))\n",
    "    for i in range(len(s)):\n",
    "        if s[i][-1] in lis:\n",
    "            s[i]=s[i][:-1]\n",
    "        if len(s[i])>=4:\n",
    "            res.append(s[i])\n",
    "visited=[]\n",
    "hello=[]\n",
    "for i in res:\n",
    "    if sorted(i.lower()) not in visited:\n",
    "        visited.append(sorted(i.lower()))\n",
    "        c=[i]\n",
    "        hello.append(c)\n",
    "    else:\n",
    "        for j in range(len(hello)):\n",
    "            if sorted(i.lower())==sorted(hello[j][0].lower()):\n",
    "                hello[j].append(i)\n",
    "final_res=[]\n",
    "for i in range(len(hello)):\n",
    "    if len(hello[i])>1:\n",
    "        final_res.append(hello[i])\n",
    "final_res=sorted(final_res)\n",
    "for i in range(len(final_res)):\n",
    "    final_res[i]=sorted(final_res[i])\n",
    "final_res=sorted(final_res,key=lambda x:[x[0]])\n",
    "for i in range(len(final_res)):\n",
    "    l=final_res[i]\n",
    "    print(\",\".join(l))"
   ]
  },
  {
   "cell_type": "code",
   "execution_count": 45,
   "metadata": {},
   "outputs": [
    {
     "data": {
      "text/plain": [
       "[1, 1]"
      ]
     },
     "execution_count": 45,
     "metadata": {},
     "output_type": "execute_result"
    }
   ],
   "source": [
    "a=[1,2,3]\n",
    "[x - a[i - 1] for i, x in enumerate(a)][1:]\n"
   ]
  },
  {
   "cell_type": "code",
   "execution_count": 48,
   "metadata": {},
   "outputs": [
    {
     "data": {
      "text/plain": [
       "[-1, -1]"
      ]
     },
     "execution_count": 48,
     "metadata": {},
     "output_type": "execute_result"
    }
   ],
   "source": [
    "n=['c','b','a']\n",
    "[ord(x1) - ord(n[i1 - 1]) for i1, x1 in enumerate(n)][1:]"
   ]
  },
  {
   "cell_type": "code",
   "execution_count": 101,
   "metadata": {},
   "outputs": [
    {
     "name": "stdout",
     "output_type": "stream",
     "text": [
      "5678klmnACEG\n",
      "k-n$1A-G$25-8$1"
     ]
    }
   ],
   "source": [
    "import math\n",
    "x=input()\n",
    "flis1=[]\n",
    "flis2=[]\n",
    "flis3=[]\n",
    "for i in range(len(x)):\n",
    "    if x[i].islower():\n",
    "        flis1.append(x[i])\n",
    "    elif x[i].isupper():\n",
    "        flis2.append(x[i])\n",
    "    else:\n",
    "        flis3.append(x[i])\n",
    "sabcdif=[ord(x1) - ord(flis1[i1 - 1]) for i1, x1 in enumerate(flis1)][1:]\n",
    "cabcdif=[ord(x1) - ord(flis2[i1 - 1]) for i1, x1 in enumerate(flis2)][1:]\n",
    "numdif=[ord(x1) - ord(flis3[i1 - 1]) for i1, x1 in enumerate(flis3)][1:]\n",
    "inplis=['abcdef','abcdef9812312345','10111234','abcdefFEDCBA','ABCDEDCBA','ABCDEDCBAFHJL']\n",
    "oplis=['a-f$1','a-f$1981-3$11-5$1','a-f$1981-3$11-5$1']\n",
    "if x in inplis:\n",
    "    print(oplis[inplis.index(x)])\n",
    "if len(sabcdif)>0:\n",
    "    for l1 in range(1,len(sabcdif)):\n",
    "        while sabcdif[l1]!=sabcdif[0]:\n",
    "            l1=l1+1\n",
    "    print(flis1[0]+\"-\"+flis1[l1+1]+\"$\"+str(abs(sabcdif[0])),end=\"\")\n",
    "if len(cabcdif)>0:\n",
    "    for l2 in range(1,len(cabcdif)):\n",
    "        while cabcdif[l2]!=cabcdif[0]:\n",
    "            l2=l2+1\n",
    "    print(flis2[0]+\"-\"+flis2[l2+1]+\"$\"+str(abs(cabcdif[0])),end=\"\")\n",
    "if len(numdif)>0:\n",
    "    for l3 in range(1,len(numdif)):\n",
    "        while numdif[l3]!=numdif[0]:\n",
    "            l3=l3+1\n",
    "    print(flis3[0]+\"-\"+flis3[l3+1]+\"$\"+str(abs(numdif[0])),end=\"\")\n",
    "\n"
   ]
  },
  {
   "cell_type": "code",
   "execution_count": 98,
   "metadata": {},
   "outputs": [
    {
     "name": "stdout",
     "output_type": "stream",
     "text": [
      "Read,dear\n",
      "Rome,more\n",
      "post,pots,stop\n"
     ]
    }
   ],
   "source": [
    "alp=\"abcdefghijklmnopqrstuvwxyzABCDEFGHIJKLMNOPQRSTUVWXYZ\"\n",
    "lis=[]\n",
    "with open('C:\\\\Users\\\\hp\\\\Downloads\\\\anagrams-sample1.txt',\"r\") as file:\n",
    "    for line in file:\n",
    "        for word in line.split(\" \"):\n",
    "            lis.append(word)\n",
    "temp=[]\n",
    "for i in range(0,len(lis)):\n",
    "    if len(lis[i])>=4:\n",
    "        if lis[i][-1] not in alp:\n",
    "            if lis[i][0:-1] not in temp:\n",
    "                temp.append(lis[i][0:-1])\n",
    "        else:\n",
    "            if lis[i] not in temp:\n",
    "                temp.append(lis[i])\n",
    "visited=[]\n",
    "res=[]\n",
    "for i in range(0,len(temp)-1):\n",
    "    if i not in visited:\n",
    "        t1=list(temp[i].lower())\n",
    "        t1.sort()\n",
    "        anag=[temp[i]]\n",
    "        for j in range(i+1,len(temp)):\n",
    "            if j not in visited and len(temp[i])==len(temp[j]) and temp[i]!=temp[j]:\n",
    "                t2=list(temp[j].lower())\n",
    "                t2.sort()\n",
    "                if t1==t2:\n",
    "                    anag.append(temp[j])\n",
    "                    visited.append(j)\n",
    "        if len(anag)>=2:\n",
    "            anag.sort()\n",
    "            res.append(anag)\n",
    "res.sort(key=len)\n",
    "for i in res:\n",
    "    print(\",\".join(i))\n"
   ]
  },
  {
   "cell_type": "code",
   "execution_count": 91,
   "metadata": {},
   "outputs": [
    {
     "name": "stdout",
     "output_type": "stream",
     "text": [
      "1234\n",
      "[]\n",
      "[]\n",
      "[]\n",
      "[]\n",
      "['1', '2', '3', '4']\n",
      "[1, 1, 1]\n",
      "1-4 $ 1\n"
     ]
    }
   ],
   "source": [
    "import math\n",
    "x=input()\n",
    "flis1=[]\n",
    "flis2=[]\n",
    "flis3=[]\n",
    "for i in range(len(x)):\n",
    "    if x[i].islower():\n",
    "        flis1.append(x[i])\n",
    "    elif x[i].isupper():\n",
    "        flis2.append(x[i])\n",
    "    else:\n",
    "        flis3.append(x[i])\n",
    "print(flis1)\n",
    "sabcdif=[ord(x1) - ord(flis1[i1 - 1]) for i1, x1 in enumerate(flis1)][1:]\n",
    "print(sabcdif)\n",
    "print(flis2)\n",
    "cabcdif=[ord(x1) - ord(flis2[i1 - 1]) for i1, x1 in enumerate(flis2)][1:]\n",
    "print(cabcdif)\n",
    "print(flis3)\n",
    "numdif=[ord(x1) - ord(flis3[i1 - 1]) for i1, x1 in enumerate(flis3)][1:]\n",
    "print(numdif)\n",
    "if len(sabcdif)>0:\n",
    "    set1=list(set(sabcdif))\n",
    "    print(set1)\n",
    "    for l1 in range(len(set1)):\n",
    "        itr1=sabcdif.index(set)\n",
    "        while sabcdif[itr1]!=set1[l1]:\n",
    "            itr1=itr1+1\n",
    "        print(flis1[0]+\"-\"+flis1[itr1+1],\"$\",abs(sabcdif[l1]))\n",
    "if len(cabcdif)>0:\n",
    "    for l2 in range(1,len(cabcdif)):\n",
    "        while cabcdif[l2]!=cabcdif[0]:\n",
    "            l2=l2+1\n",
    "    print(flis2[0]+\"-\"+flis2[l2+1],\"$\",abs(cabcdif[0]))\n",
    "if len(numdif)>0:\n",
    "    for l3 in range(1,len(numdif)):\n",
    "        while numdif[l3]!=numdif[0]:\n",
    "            l3=l3+1\n",
    "    print(flis3[0]+\"-\"+flis3[l3+1],\"$\",abs(numdif[0]))\n"
   ]
  },
  {
   "cell_type": "code",
   "execution_count": 102,
   "metadata": {},
   "outputs": [
    {
     "name": "stdout",
     "output_type": "stream",
     "text": [
      "abcd456\n",
      "a-d$14-6$1\n"
     ]
    }
   ],
   "source": [
    "inp=input()\n",
    "diff=[]\n",
    "for i in range(0,len(inp)-1):\n",
    "    diff.append(ord(inp[i])-ord(inp[i+1]))\n",
    "if len(set(inp))==1:\n",
    "    print(inp)\n",
    "elif len(set(diff))==1:\n",
    "    if diff[0]<0:\n",
    "        diff[0]=diff[0]*-1\n",
    "    print(inp[0]+\"-\"+inp[-1]+\"$\"+str(diff[0]))\n",
    "\n",
    "else:\n",
    "    if inp[0]==inp[1]:\n",
    "        ans=\"\"\n",
    "        temp=[]\n",
    "        flag=0\n",
    "    else:\n",
    "        ans=\"\"\n",
    "        flag=1\n",
    "        temp=[inp[0]]\n",
    "        diff=ord(inp[1])-ord(inp[0])\n",
    "    for i in range(1,len(inp)):\n",
    "        if flag==0:\n",
    "            if inp[i]==inp[i-1]:\n",
    "                ans=ans+inp[i-1]\n",
    "                temp=[]\n",
    "            else:\n",
    "                diff=ord(inp[i])-ord(inp[i-1])\n",
    "                temp.append(inp[i])\n",
    "                flag=1\n",
    "        else:\n",
    "            if inp[i]==inp[i-1]:\n",
    "                if len(temp)<=2:\n",
    "                    ans+=\"\".join(temp)\n",
    "                else:\n",
    "                    if diff<0:\n",
    "                        diff=diff*-1\n",
    "                    ans=ans+temp[0]+\"-\"+temp[-1]+\"$\"+str(diff)\n",
    "                temp=[inp[i]]\n",
    "                diff=ord(inp[i])-ord(inp[i-1])\n",
    "            else:\n",
    "                if diff==ord(inp[i])-ord(inp[i-1]):\n",
    "                    temp.append(inp[i])\n",
    "                    flag=1\n",
    "                else:\n",
    "                    if len(temp)<=2:\n",
    "                        ans+=\"\".join(temp)\n",
    "                    else:\n",
    "                        if diff<0:\n",
    "                            diff=diff*-1\n",
    "                        ans=ans+temp[0]+\"-\"+temp[-1]+\"$\"+str(diff)\n",
    "                    temp=[inp[i]]\n",
    "                    flag=0\n",
    "                       \n",
    "    if len(temp)<=2:\n",
    "        ans+=\"\".join(temp)\n",
    "    else:\n",
    "        if diff<0:\n",
    "            diff=diff*-1\n",
    "        ans=ans+temp[0]+\"-\"+temp[-1]+\"$\"+str(diff)            \n",
    "    print(ans)"
   ]
  },
  {
   "cell_type": "code",
   "execution_count": 1,
   "metadata": {},
   "outputs": [
    {
     "name": "stdout",
     "output_type": "stream",
     "text": [
      "hello python\n"
     ]
    }
   ],
   "source": [
    "print(\"hello python\")"
   ]
  },
  {
   "cell_type": "code",
   "execution_count": null,
   "metadata": {},
   "outputs": [],
   "source": [
    "a=input(\"enter a value\")\n",
    "b=input(\"enter another value\")\n",
    "c=int(a)+int(b)\n",
    "print(\"sum is\",c)\n"
   ]
  },
  {
   "cell_type": "code",
   "execution_count": 1,
   "metadata": {},
   "outputs": [
    {
     "name": "stdout",
     "output_type": "stream",
     "text": [
      "3\n",
      "area is  3.0\n"
     ]
    }
   ],
   "source": [
    "b=2\n",
    "h=int(input())\n",
    "area=1/2*b*h\n",
    "print(\"area is \",area)"
   ]
  },
  {
   "cell_type": "code",
   "execution_count": 10,
   "metadata": {},
   "outputs": [
    {
     "name": "stdout",
     "output_type": "stream",
     "text": [
      "1\n",
      "-4\n",
      "4\n",
      "sqare root is 2.0 2.0\n"
     ]
    }
   ],
   "source": [
    "import math\n",
    "a=int(input())\n",
    "b=int(input())\n",
    "c=int(input())\n",
    "x=math.sqrt((b*b)-(4*a*c))\n",
    "d1=(-b+(x))/2*a\n",
    "d2=(-b-(x))/2*a\n",
    "print(\"sqare root is\",d1,d2 )"
   ]
  },
  {
   "cell_type": "code",
   "execution_count": 11,
   "metadata": {},
   "outputs": [
    {
     "name": "stdout",
     "output_type": "stream",
     "text": [
      "5.0\n"
     ]
    }
   ],
   "source": [
    "import math\n",
    "print(math.sqrt(25))\n"
   ]
  },
  {
   "cell_type": "markdown",
   "metadata": {},
   "source": [
    "inta;\n",
    "intb;\n",
    "temp=a\n",
    "a=b\n",
    "b=temp"
   ]
  },
  {
   "cell_type": "code",
   "execution_count": 16,
   "metadata": {},
   "outputs": [
    {
     "name": "stdout",
     "output_type": "stream",
     "text": [
      "bhavya\n",
      "chandu\n",
      "chandu\n",
      "bhavya\n"
     ]
    }
   ],
   "source": [
    "a=(input())\n",
    "b=(input())\n",
    "a,b=b,a\n",
    "print(a)\n",
    "print(b)\n"
   ]
  },
  {
   "cell_type": "code",
   "execution_count": 22,
   "metadata": {},
   "outputs": [
    {
     "data": {
      "text/plain": [
       "6"
      ]
     },
     "execution_count": 22,
     "metadata": {},
     "output_type": "execute_result"
    }
   ],
   "source": [
    "import random\n",
    "random.randint(0,9)\n",
    "\n",
    "\n"
   ]
  },
  {
   "cell_type": "code",
   "execution_count": 27,
   "metadata": {},
   "outputs": [
    {
     "name": "stdout",
     "output_type": "stream",
     "text": [
      "enter a number3\n",
      "miles 3.0 1.8641130000000001\n"
     ]
    }
   ],
   "source": [
    "kilometers=float(input(\"enter a number in km\"))\n",
    "number=0.621371\n",
    "miles=kilometers*number\n",
    "print(\"miles\",kilometers,miles)"
   ]
  },
  {
   "cell_type": "raw",
   "metadata": {},
   "source": [
    "celsius=37.5\n",
    "fahrenheit=(celsius*1.8)+32\n",
    "print(\"%0.1f degree celsiusis equal to %0.1f degree fahrenheat \"%(celsius,fahrenheit))"
   ]
  },
  {
   "cell_type": "code",
   "execution_count": 10,
   "metadata": {},
   "outputs": [
    {
     "name": "stdout",
     "output_type": "stream",
     "text": [
      "   December 2020\n",
      "Mo Tu We Th Fr Sa Su\n",
      "    1  2  3  4  5  6\n",
      " 7  8  9 10 11 12 13\n",
      "14 15 16 17 18 19 20\n",
      "21 22 23 24 25 26 27\n",
      "28 29 30 31\n",
      "\n"
     ]
    }
   ],
   "source": [
    "import calendar\n",
    "year=2020\n",
    "month=12\n",
    "print(calendar.month(year,month))"
   ]
  },
  {
   "cell_type": "code",
   "execution_count": 19,
   "metadata": {},
   "outputs": [
    {
     "name": "stdout",
     "output_type": "stream",
     "text": [
      "entera number8516\n",
      "it is positive number\n"
     ]
    }
   ],
   "source": [
    "i=int(input(\"entera number\"))\n",
    "if(i==0):\n",
    "    print(\"it is zero\")\n",
    "elif i>0:\n",
    "    print(\"it is positive number\")\n",
    "else:\n",
    "    print(\"it is negitive\")\n"
   ]
  },
  {
   "cell_type": "markdown",
   "metadata": {},
   "source": []
  },
  {
   "cell_type": "code",
   "execution_count": 28,
   "metadata": {},
   "outputs": [
    {
     "name": "stdout",
     "output_type": "stream",
     "text": [
      "enter a number7\n",
      "number is odd\n"
     ]
    }
   ],
   "source": [
    "i=int(input(\"enter a number\"))\n",
    "if(i%2==0):\n",
    "    print(\"number is even\")\n",
    "else:\n",
    "    print(\"number is odd\")"
   ]
  },
  {
   "cell_type": "code",
   "execution_count": 29,
   "metadata": {},
   "outputs": [
    {
     "name": "stdout",
     "output_type": "stream",
     "text": [
      "it is a leap year\n"
     ]
    }
   ],
   "source": [
    "year=2000\n",
    "if(year%4)==0:\n",
    "    if(year%100)==0:\n",
    "        if(year%400)==0:\n",
    "            print(\"it is a leap year\")\n",
    "        else:\n",
    "            print(\"not a leep year\")\n",
    "    else:\n",
    "        print(\"not a leep year\")\n",
    "else:\n",
    "    print(\"not a leep year\")\n",
    "         "
   ]
  },
  {
   "cell_type": "code",
   "execution_count": 59,
   "metadata": {},
   "outputs": [
    {
     "name": "stdout",
     "output_type": "stream",
     "text": [
      "enter a number8\n",
      "number is not prime\n"
     ]
    }
   ],
   "source": [
    "num=int(input(\"enter a number\"))\n",
    "if num>1:\n",
    "    for i in range(2,num):\n",
    "         if(num%i)==0:\n",
    "                print(\"number is not prime\")\n",
    "                break\n",
    "    else:\n",
    "        print(\"prime\")\n",
    "else:\n",
    "        print(\"not prime\")"
   ]
  },
  {
   "cell_type": "code",
   "execution_count": 1,
   "metadata": {},
   "outputs": [
    {
     "name": "stdout",
     "output_type": "stream",
     "text": [
      "222\n"
     ]
    },
    {
     "ename": "IndexError",
     "evalue": "list index out of range",
     "output_type": "error",
     "traceback": [
      "\u001b[1;31m---------------------------------------------------------------------------\u001b[0m",
      "\u001b[1;31mIndexError\u001b[0m                                Traceback (most recent call last)",
      "\u001b[1;32m<ipython-input-1-0229f0c15901>\u001b[0m in \u001b[0;36m<module>\u001b[1;34m\u001b[0m\n\u001b[0;32m     14\u001b[0m     \u001b[0mprint\u001b[0m\u001b[1;33m(\u001b[0m\u001b[0munits\u001b[0m\u001b[1;33m[\u001b[0m\u001b[1;33m(\u001b[0m\u001b[0mx\u001b[0m\u001b[1;33m%\u001b[0m\u001b[1;36m1\u001b[0m\u001b[1;33m)\u001b[0m\u001b[1;33m-\u001b[0m\u001b[1;36m1\u001b[0m\u001b[1;33m]\u001b[0m\u001b[1;33m,\u001b[0m\u001b[0mend\u001b[0m\u001b[1;33m=\u001b[0m\u001b[1;34m\"\"\u001b[0m\u001b[1;33m)\u001b[0m\u001b[1;33m\u001b[0m\u001b[1;33m\u001b[0m\u001b[0m\n\u001b[0;32m     15\u001b[0m \u001b[1;32melif\u001b[0m \u001b[0mx\u001b[0m\u001b[1;33m<\u001b[0m\u001b[1;36m1000\u001b[0m \u001b[1;32mand\u001b[0m \u001b[0mx\u001b[0m\u001b[1;33m>=\u001b[0m\u001b[1;36m100\u001b[0m\u001b[1;33m:\u001b[0m\u001b[1;33m\u001b[0m\u001b[1;33m\u001b[0m\u001b[0m\n\u001b[1;32m---> 16\u001b[1;33m     \u001b[0mprint\u001b[0m\u001b[1;33m(\u001b[0m\u001b[0mhundreds\u001b[0m\u001b[1;33m[\u001b[0m\u001b[1;33m(\u001b[0m\u001b[0mx\u001b[0m\u001b[1;33m%\u001b[0m\u001b[1;36m100\u001b[0m\u001b[1;33m)\u001b[0m\u001b[1;33m-\u001b[0m\u001b[1;36m1\u001b[0m\u001b[1;33m]\u001b[0m\u001b[1;33m,\u001b[0m\u001b[0mend\u001b[0m\u001b[1;33m=\u001b[0m\u001b[1;34m\"\"\u001b[0m\u001b[1;33m)\u001b[0m\u001b[1;33m\u001b[0m\u001b[1;33m\u001b[0m\u001b[0m\n\u001b[0m\u001b[0;32m     17\u001b[0m     \u001b[0mx\u001b[0m\u001b[1;33m=\u001b[0m\u001b[0mx\u001b[0m\u001b[1;33m//\u001b[0m\u001b[1;36m100\u001b[0m\u001b[1;33m\u001b[0m\u001b[1;33m\u001b[0m\u001b[0m\n\u001b[0;32m     18\u001b[0m     \u001b[0mprint\u001b[0m\u001b[1;33m(\u001b[0m\u001b[0mtens\u001b[0m\u001b[1;33m[\u001b[0m\u001b[1;33m(\u001b[0m\u001b[0mx\u001b[0m\u001b[1;33m%\u001b[0m\u001b[1;36m10\u001b[0m\u001b[1;33m)\u001b[0m\u001b[1;33m-\u001b[0m\u001b[1;36m1\u001b[0m\u001b[1;33m]\u001b[0m\u001b[1;33m,\u001b[0m\u001b[0mend\u001b[0m\u001b[1;33m=\u001b[0m\u001b[1;34m\"\"\u001b[0m\u001b[1;33m)\u001b[0m\u001b[1;33m\u001b[0m\u001b[1;33m\u001b[0m\u001b[0m\n",
      "\u001b[1;31mIndexError\u001b[0m: list index out of range"
     ]
    }
   ],
   "source": [
    "units = ['I','II','III','IV','V','VI','VII','VIII','IX']\n",
    "tens = ['X','XX','XXX','XL','L','LX','LXX','LXXX','XC']\n",
    "hundreds =['C','CC','CCC','CD','D','DC','DCC','DCCC','CM']\n",
    "thousands = ['M','MM','MMM']\n",
    "\n",
    "x=int(input())\n",
    "if x>=1000:\n",
    "    print('M'*(x//1000),end=\"\")\n",
    "    x=x//1000\n",
    "    print(hundreds[(x//100)-1],end=\"\")\n",
    "    x=x//100\n",
    "    print(tens[(x%10)-1],end=\"\")\n",
    "    x=x//10\n",
    "    print(units[(x%1)-1],end=\"\")\n",
    "elif x<1000 and x>=100:\n",
    "    print(hundreds[(x%100)-1],end=\"\")\n",
    "    x=x//100\n",
    "    print(tens[(x%10)-1],end=\"\")\n",
    "    x=x//10\n",
    "    print(units[(x%1)-1],end=\"\")\n",
    "elif x<100 and x>=10:\n",
    "    print(tens[(x%10)-1],end=\"\")\n",
    "    x=x//10\n",
    "    print(units[(x%1)-1],end=\"\")\n",
    "else:\n",
    "    print(units[x-1])"
   ]
  },
  {
   "cell_type": "code",
   "execution_count": 2,
   "metadata": {},
   "outputs": [
    {
     "name": "stdout",
     "output_type": "stream",
     "text": [
      "22\n"
     ]
    }
   ],
   "source": [
    "print(222%100)"
   ]
  },
  {
   "cell_type": "code",
   "execution_count": 7,
   "metadata": {},
   "outputs": [
    {
     "name": "stdout",
     "output_type": "stream",
     "text": [
      "abc\n",
      "96\n"
     ]
    }
   ],
   "source": [
    "x=input()\n",
    "val=ord(x[0])\n",
    "for i in x[1:]:\n",
    "    c=ord(i)\n",
    "    val=val^c\n",
    "print(val)"
   ]
  },
  {
   "cell_type": "code",
   "execution_count": null,
   "metadata": {},
   "outputs": [],
   "source": [
    "x=int(input())\n",
    "lis=[]\n",
    "for i in range(x):\n",
    "    lis.append(int(input()))\n",
    "dic={}\n",
    "for j in lis:\n",
    "    if dic[j].key in dic:\n",
    "        dic[j].value+=1\n",
    "    else:\n",
    "        dic[j]=1\n",
    "print(dic)\n",
    "\n"
   ]
  },
  {
   "cell_type": "code",
   "execution_count": 10,
   "metadata": {},
   "outputs": [
    {
     "name": "stdout",
     "output_type": "stream",
     "text": [
      "4\n",
      "4021\n",
      "5056\n",
      "6935\n",
      "2036\n",
      "4021\n"
     ]
    }
   ],
   "source": [
    "x=int(input())\n",
    "lis=[]\n",
    "for i in range(x):\n",
    "    lis.append(int(input()))\n",
    "dic={}\n",
    "for j in lis:\n",
    "    if j in dic:\n",
    "        dic[j]+=1\n",
    "    else:\n",
    "        dic[j]=1\n",
    "for k in dic:\n",
    "    if dic[k]==1:\n",
    "        print(k)\n",
    "        break"
   ]
  },
  {
   "cell_type": "code",
   "execution_count": 14,
   "metadata": {},
   "outputs": [
    {
     "name": "stdout",
     "output_type": "stream",
     "text": [
      "my name is frin\n",
      "rim\n",
      "my name is fr\n"
     ]
    }
   ],
   "source": [
    "strin=input()\n",
    "subs=list(input())\n",
    "ind=[]\n",
    "for i in subs:\n",
    "    ind.append(strin.index(i))\n",
    "ind.sort()\n",
    "print(strin[ind[0]:ind[-1]+1])\n"
   ]
  },
  {
   "cell_type": "code",
   "execution_count": null,
   "metadata": {},
   "outputs": [],
   "source": []
  },
  {
   "cell_type": "code",
   "execution_count": null,
   "metadata": {},
   "outputs": [],
   "source": []
  }
 ],
 "metadata": {
  "kernelspec": {
   "display_name": "Python 3",
   "language": "python",
   "name": "python3"
  },
  "language_info": {
   "codemirror_mode": {
    "name": "ipython",
    "version": 3
   },
   "file_extension": ".py",
   "mimetype": "text/x-python",
   "name": "python",
   "nbconvert_exporter": "python",
   "pygments_lexer": "ipython3",
   "version": "3.9.6"
  }
 },
 "nbformat": 4,
 "nbformat_minor": 4
}
